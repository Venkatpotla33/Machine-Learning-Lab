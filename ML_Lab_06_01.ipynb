{
  "cells": [
    {
      "cell_type": "markdown",
      "metadata": {
        "id": "view-in-github",
        "colab_type": "text"
      },
      "source": [
        "<a href=\"https://colab.research.google.com/github/Venkatpotla33/Machine-Learning-Lab/blob/main/ML_Lab_06_01.ipynb\" target=\"_parent\"><img src=\"https://colab.research.google.com/assets/colab-badge.svg\" alt=\"Open In Colab\"/></a>"
      ]
    },
    {
      "cell_type": "code",
      "execution_count": null,
      "metadata": {
        "colab": {
          "base_uri": "https://localhost:8080/"
        },
        "id": "8clKCmvsiIB2",
        "outputId": "12c55b0b-2aa0-4011-fee9-beb30ec4cb5a"
      },
      "outputs": [
        {
          "output_type": "stream",
          "name": "stdout",
          "text": [
            "Mounted at /content/drive\n"
          ]
        }
      ],
      "source": [
        "# Mount Google Drive\n",
        "from google.colab import drive\n",
        "drive.mount('/content/drive')  # Authorize\n"
      ]
    },
    {
      "cell_type": "code",
      "execution_count": null,
      "metadata": {
        "colab": {
          "base_uri": "https://localhost:8080/"
        },
        "id": "j_iBwKs1iUtD",
        "outputId": "24cbc609-9448-4ba8-95d2-28bb30de0e21"
      },
      "outputs": [
        {
          "output_type": "stream",
          "name": "stdout",
          "text": [
            "Saving artifacts to: /content/drive/MyDrive/ensemble_tuning\n"
          ]
        }
      ],
      "source": [
        "# Paths, Imports & Dataset\n",
        "\n",
        "import os, joblib, numpy as np\n",
        "from sklearn.datasets import make_classification\n",
        "from sklearn.model_selection import train_test_split, GridSearchCV, RandomizedSearchCV, StratifiedKFold\n",
        "from sklearn.metrics import accuracy_score, f1_score\n",
        "from sklearn.tree import DecisionTreeClassifier\n",
        "from sklearn.svm import SVC\n",
        "from sklearn.ensemble import AdaBoostClassifier, BaggingClassifier\n",
        "from sklearn.pipeline import Pipeline\n",
        "from sklearn.preprocessing import StandardScaler\n",
        "from scipy.stats import loguniform, randint\n",
        "\n",
        "BASE_DIR = '/content/drive/MyDrive/ensemble_tuning'\n",
        "os.makedirs(BASE_DIR, exist_ok=True)\n",
        "print('Saving artifacts to:', BASE_DIR)\n",
        "\n",
        "# Complex dataset\n",
        "X, y = make_classification(n_samples=4000, n_features=40, n_informative=15, n_redundant=10,\n",
        "                           n_classes=3, weights=[0.55, 0.30, 0.15], class_sep=1.2,\n",
        "                           flip_y=0.02, random_state=42)\n",
        "X_train, X_test, y_train, y_test = train_test_split(X, y, test_size=0.25, stratify=y, random_state=7)\n",
        "\n",
        "cv = StratifiedKFold(n_splits=5, shuffle=True, random_state=0)\n",
        "\n",
        "def report_best(name, search):\n",
        "    print(f\"\\n{name} — Best Params:\\n\", search.best_params_)\n",
        "    print(f\"CV Best Score (macro-F1): {search.best_score_:.4f}\")\n",
        "    best = search.best_estimator_\n",
        "    y_pred = best.predict(X_test)\n",
        "    print(f\"Test Accuracy: {accuracy_score(y_test, y_pred):.4f}\")\n",
        "    print(f\"Test Macro-F1: {f1_score(y_test, y_pred, average='macro'):.4f}\")\n",
        "    return best\n"
      ]
    },
    {
      "cell_type": "code",
      "execution_count": null,
      "metadata": {
        "colab": {
          "base_uri": "https://localhost:8080/"
        },
        "id": "6sNjs_LKigqk",
        "outputId": "19f05b1d-242c-4558-99fb-fe00af911d22"
      },
      "outputs": [
        {
          "output_type": "stream",
          "name": "stdout",
          "text": [
            "Fitting 5 folds for each of 80 candidates, totalling 400 fits\n",
            "\n",
            "AdaBoost + DecisionTree (Grid) — Best Params:\n",
            " {'estimator__max_depth': 4, 'learning_rate': 0.5, 'n_estimators': 300}\n",
            "CV Best Score (macro-F1): 0.8529\n",
            "Test Accuracy: 0.8910\n",
            "Test Macro-F1: 0.8563\n",
            "Saved: /content/drive/MyDrive/ensemble_tuning/ada_dt_best_grid.joblib\n"
          ]
        }
      ],
      "source": [
        "# AdaBoost + DecisionTree (GridSearchCV)\n",
        "\n",
        "from sklearn.ensemble import AdaBoostClassifier\n",
        "from sklearn.tree import DecisionTreeClassifier\n",
        "import joblib, os\n",
        "\n",
        "base_dt = DecisionTreeClassifier(random_state=0)\n",
        "ada_dt = AdaBoostClassifier(estimator=base_dt, random_state=0)\n",
        "\n",
        "param_grid = {\n",
        "    'estimator__max_depth': [1, 2, 3, 4],\n",
        "    'n_estimators': [50, 100, 200, 300],\n",
        "    'learning_rate': [0.01, 0.05, 0.1, 0.5, 1.0]\n",
        "}\n",
        "\n",
        "gs_ada_dt = GridSearchCV(ada_dt, param_grid=param_grid, scoring='f1_macro', cv=cv, n_jobs=-1, verbose=1)\n",
        "gs_ada_dt.fit(X_train, y_train)\n",
        "best_ada_dt = report_best('AdaBoost + DecisionTree (Grid)', gs_ada_dt)\n",
        "\n",
        "joblib.dump(best_ada_dt, os.path.join(BASE_DIR, 'ada_dt_best_grid.joblib'))\n",
        "print('Saved:', os.path.join(BASE_DIR, 'ada_dt_best_grid.joblib'))\n"
      ]
    },
    {
      "cell_type": "code",
      "execution_count": null,
      "metadata": {
        "colab": {
          "base_uri": "https://localhost:8080/"
        },
        "id": "rRo4Gg8Vi4Gc",
        "outputId": "eccdd3a8-6d83-48a5-b7c2-d9fb16b08692"
      },
      "outputs": [
        {
          "output_type": "stream",
          "name": "stdout",
          "text": [
            "Fitting 5 folds for each of 144 candidates, totalling 720 fits\n",
            "\n",
            "Bagging + DecisionTree (Grid) — Best Params:\n",
            " {'estimator__max_depth': None, 'max_features': 0.7, 'max_samples': 1.0, 'n_estimators': 300}\n",
            "CV Best Score (macro-F1): 0.8088\n",
            "Test Accuracy: 0.8670\n",
            "Test Macro-F1: 0.8170\n",
            "Saved: /content/drive/MyDrive/ensemble_tuning/bag_dt_best_grid.joblib\n"
          ]
        }
      ],
      "source": [
        "# Bagging + DecisionTree (GridSearchCV)\n",
        "from sklearn.ensemble import BaggingClassifier\n",
        "\n",
        "base_dt2 = DecisionTreeClassifier(random_state=0)\n",
        "bag_dt = BaggingClassifier(estimator=base_dt2, random_state=0, n_jobs=-1)\n",
        "\n",
        "param_grid = {\n",
        "    'estimator__max_depth': [None, 5, 10, 15],\n",
        "    'n_estimators': [50, 100, 200, 300],\n",
        "    'max_samples': [0.5, 0.7, 1.0],\n",
        "    'max_features': [0.5, 0.7, 1.0]\n",
        "}\n",
        "\n",
        "gs_bag_dt = GridSearchCV(bag_dt, param_grid=param_grid, scoring='f1_macro', cv=cv, n_jobs=-1, verbose=1)\n",
        "gs_bag_dt.fit(X_train, y_train)\n",
        "best_bag_dt = report_best('Bagging + DecisionTree (Grid)', gs_bag_dt)\n",
        "\n",
        "joblib.dump(best_bag_dt, os.path.join(BASE_DIR, 'bag_dt_best_grid.joblib'))\n",
        "print('Saved:', os.path.join(BASE_DIR, 'bag_dt_best_grid.joblib'))\n"
      ]
    },
    {
      "cell_type": "code",
      "execution_count": null,
      "metadata": {
        "id": "h-aLaPB4i9C5",
        "outputId": "92827773-1213-491b-e90d-f8f8d26f9b90",
        "colab": {
          "base_uri": "https://localhost:8080/"
        }
      },
      "outputs": [
        {
          "metadata": {
            "tags": null
          },
          "name": "stdout",
          "output_type": "stream",
          "text": [
            "Fitting 5 folds for each of 40 candidates, totalling 200 fits\n"
          ]
        }
      ],
      "source": [
        "# Bagging + SVM (RandomizedSearchCV)\n",
        "from sklearn.ensemble import BaggingClassifier\n",
        "from sklearn.pipeline import Pipeline\n",
        "from sklearn.preprocessing import StandardScaler\n",
        "from sklearn.svm import SVC\n",
        "from scipy.stats import loguniform, randint\n",
        "from sklearn.model_selection import RandomizedSearchCV, StratifiedKFold\n",
        "\n",
        "\n",
        "svm_base2 = Pipeline([('scaler', StandardScaler()), ('svc', SVC(random_state=0))])\n",
        "bag_svm = BaggingClassifier(estimator=svm_base2, random_state=0, n_jobs=-1)\n",
        "\n",
        "param_distributions = {\n",
        "    'n_estimators': randint(25, 150),\n",
        "    'max_samples': [0.5, 0.7, 1.0],\n",
        "    'max_features': [0.5, 0.7, 1.0],\n",
        "    'estimator__svc__C': loguniform(1e-2, 1e2),\n",
        "    'estimator__svc__kernel': ['rbf', 'linear'],\n",
        "    'estimator__svc__gamma': ['scale', 'auto']\n",
        "}\n",
        "\n",
        "rs_bag_svm = RandomizedSearchCV(bag_svm, param_distributions=param_distributions,\n",
        "                                n_iter=40, scoring='f1_macro', cv=cv, n_jobs=-1, verbose=1, random_state=0)\n",
        "rs_bag_svm.fit(X_train, y_train)\n",
        "best_bag_svm = report_best('Bagging + SVM (Randomized)', rs_bag_svm)\n",
        "\n",
        "joblib.dump(best_bag_svm, os.path.join(BASE_DIR, 'bag_svm_best_rand.joblib'))\n",
        "print('Saved:', os.path.join(BASE_DIR, 'bag_svm_best_rand.joblib'))"
      ]
    },
    {
      "cell_type": "code",
      "execution_count": null,
      "metadata": {
        "id": "Dr_pxZGHjD7y"
      },
      "outputs": [],
      "source": [
        "# Load & Compare Saved Models\n",
        "import joblib, os\n",
        "from sklearn.metrics import accuracy_score, f1_score\n",
        "\n",
        "paths = [\n",
        "    'ada_dt_best_grid.joblib',\n",
        "    'ada_svm_best_rand.joblib',\n",
        "    'bag_dt_best_grid.joblib',\n",
        "    'bag_svm_best_rand.joblib'\n",
        "]\n",
        "\n",
        "for fname in paths:\n",
        "    fpath = os.path.join(BASE_DIR, fname)\n",
        "    clf = joblib.load(fpath)\n",
        "    y_pred = clf.predict(X_test)\n",
        "    print(f\"\\n{fname}\")\n",
        "    print(\"Test Accuracy:\", accuracy_score(y_test, y_pred))\n",
        "    print(\"Test Macro-F1:\", f1_score(y_test, y_pred, average='macro'))\n"
      ]
    }
  ],
  "metadata": {
    "colab": {
      "provenance": [],
      "include_colab_link": true
    },
    "kernelspec": {
      "display_name": "Python 3",
      "name": "python3"
    },
    "language_info": {
      "name": "python"
    }
  },
  "nbformat": 4,
  "nbformat_minor": 0
}